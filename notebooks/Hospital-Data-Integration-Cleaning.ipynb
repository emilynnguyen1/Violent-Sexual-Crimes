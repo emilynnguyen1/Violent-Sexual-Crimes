{
 "cells": [
  {
   "cell_type": "markdown",
   "id": "bde0297c",
   "metadata": {},
   "source": [
    "# Sprint 3 - Data Integration & Cleaning Notebook\n",
    "**Emily Nguyen, Kaylynn Francisco-Nelson, Angela Iraya**"
   ]
  },
  {
   "cell_type": "markdown",
   "id": "bcadaaaa",
   "metadata": {},
   "source": [
    "### LA Hospital Dataset Exploration\n",
    "---"
   ]
  },
  {
   "cell_type": "markdown",
   "id": "9fc97606",
   "metadata": {},
   "source": [
    "The Points of Interest Hospitals dataset is maintained by the Los Angeles County Internal Services Department, Enterprise GIS Section. The dataset is part of the LA County’s “Points of Interest” collection and provides geolocated information on hospitals and related health facilities across LA, which will help us integrate contextual healthcare accessibility data into our main sexual crimes dataset. Access to hospitals may provide insights into emergency response times, healthcare proximity, or victim outcomes.\n",
    "\n",
    "The hospital dataset contains 93 hospital records. Some of the key variables in the dataset include: \n",
    "- Facility Information: FACNAME, BUSINESS_NAME, FAC_TYPE_CODE, FAC_STATUS_TYPE_CODE, CAPACITY\n",
    "- Location Data: ADDRESS, CITY, ZIP Code, LATITUDE, LONGITUDE\n",
    "- Administrative Fields: LICENSE_NUMBER, LICENSE_STATUS_DESCRIPTION, DISTRICT_NAME, COUNTY_NAME\n",
    "- Healthcare Attributes: BIRTHING_FACILITY_FLAG, TRAUMA_CTR, CRITICAL_ACCESS_HOSPITAL"
   ]
  },
  {
   "cell_type": "code",
   "execution_count": 11,
   "id": "15926f2d",
   "metadata": {},
   "outputs": [],
   "source": [
    "# Import modules\n",
    "import pandas as pd\n",
    "import geopandas as gpd\n",
    "from shapely.geometry import Point\n",
    "import matplotlib.pyplot as plt\n",
    "import requests\n",
    "import zipfile\n",
    "import os"
   ]
  },
  {
   "cell_type": "code",
   "execution_count": 32,
   "id": "56c58e33",
   "metadata": {},
   "outputs": [
    {
     "data": {
      "text/html": [
       "<div>\n",
       "<style scoped>\n",
       "    .dataframe tbody tr th:only-of-type {\n",
       "        vertical-align: middle;\n",
       "    }\n",
       "\n",
       "    .dataframe tbody tr th {\n",
       "        vertical-align: top;\n",
       "    }\n",
       "\n",
       "    .dataframe thead th {\n",
       "        text-align: right;\n",
       "    }\n",
       "</style>\n",
       "<table border=\"1\" class=\"dataframe\">\n",
       "  <thead>\n",
       "    <tr style=\"text-align: right;\">\n",
       "      <th></th>\n",
       "      <th>OBJECTID</th>\n",
       "      <th>City</th>\n",
       "      <th>ZIP Code</th>\n",
       "      <th>LICENSED_CERTIFIED</th>\n",
       "      <th>FLAG</th>\n",
       "      <th>T18_19</th>\n",
       "      <th>FACID</th>\n",
       "      <th>FAC_STATUS_TYPE_CODE</th>\n",
       "      <th>ASPEN_FACID</th>\n",
       "      <th>CCN</th>\n",
       "      <th>...</th>\n",
       "      <th>CCLHO_NAME</th>\n",
       "      <th>FIPS_COUNTY_CODE</th>\n",
       "      <th>BIRTHING_FACILITY_FLAG</th>\n",
       "      <th>TRAUMA_PED_CTR</th>\n",
       "      <th>TRAUMA_CTR</th>\n",
       "      <th>TYPE_OF_CARE</th>\n",
       "      <th>CRITICAL_ACCESS_HOSPITAL</th>\n",
       "      <th>DATA_DATE</th>\n",
       "      <th>x</th>\n",
       "      <th>y</th>\n",
       "    </tr>\n",
       "  </thead>\n",
       "  <tbody>\n",
       "    <tr>\n",
       "      <th>0</th>\n",
       "      <td>122506</td>\n",
       "      <td>TORRANCE</td>\n",
       "      <td>90502</td>\n",
       "      <td>LICENSED AND CERTIFIED</td>\n",
       "      <td>NaN</td>\n",
       "      <td>NaN</td>\n",
       "      <td>60000027</td>\n",
       "      <td>OPEN</td>\n",
       "      <td>CA060000027</td>\n",
       "      <td>50376.0</td>\n",
       "      <td>...</td>\n",
       "      <td>LOS ANGELES</td>\n",
       "      <td>6037</td>\n",
       "      <td>YES</td>\n",
       "      <td>LEVEL II PED</td>\n",
       "      <td>LEVEL I</td>\n",
       "      <td>NaN</td>\n",
       "      <td>NaN</td>\n",
       "      <td>2025-03-17T00:00:00</td>\n",
       "      <td>6.472977e+06</td>\n",
       "      <td>1.760762e+06</td>\n",
       "    </tr>\n",
       "    <tr>\n",
       "      <th>1</th>\n",
       "      <td>122507</td>\n",
       "      <td>DOWNEY</td>\n",
       "      <td>90242</td>\n",
       "      <td>LICENSED AND CERTIFIED</td>\n",
       "      <td>NaN</td>\n",
       "      <td>NaN</td>\n",
       "      <td>60000028</td>\n",
       "      <td>OPEN</td>\n",
       "      <td>CA060000028</td>\n",
       "      <td>50717.0</td>\n",
       "      <td>...</td>\n",
       "      <td>LOS ANGELES</td>\n",
       "      <td>6037</td>\n",
       "      <td>NaN</td>\n",
       "      <td>NaN</td>\n",
       "      <td>NaN</td>\n",
       "      <td>NaN</td>\n",
       "      <td>NaN</td>\n",
       "      <td>2025-03-17T00:00:00</td>\n",
       "      <td>6.513737e+06</td>\n",
       "      <td>1.796618e+06</td>\n",
       "    </tr>\n",
       "    <tr>\n",
       "      <th>2</th>\n",
       "      <td>122508</td>\n",
       "      <td>LOS ANGELES</td>\n",
       "      <td>90059</td>\n",
       "      <td>LICENSED AND CERTIFIED</td>\n",
       "      <td>NaN</td>\n",
       "      <td>NaN</td>\n",
       "      <td>60000035</td>\n",
       "      <td>OPEN</td>\n",
       "      <td>CA06000035</td>\n",
       "      <td>50779.0</td>\n",
       "      <td>...</td>\n",
       "      <td>LOS ANGELES</td>\n",
       "      <td>6037</td>\n",
       "      <td>YES</td>\n",
       "      <td>NaN</td>\n",
       "      <td>NaN</td>\n",
       "      <td>NaN</td>\n",
       "      <td>NaN</td>\n",
       "      <td>2025-03-17T00:00:00</td>\n",
       "      <td>6.487597e+06</td>\n",
       "      <td>1.794882e+06</td>\n",
       "    </tr>\n",
       "    <tr>\n",
       "      <th>3</th>\n",
       "      <td>122509</td>\n",
       "      <td>SYLMAR</td>\n",
       "      <td>91342</td>\n",
       "      <td>LICENSED AND CERTIFIED</td>\n",
       "      <td>NaN</td>\n",
       "      <td>NaN</td>\n",
       "      <td>60000038</td>\n",
       "      <td>OPEN</td>\n",
       "      <td>CA060000038</td>\n",
       "      <td>50040.0</td>\n",
       "      <td>...</td>\n",
       "      <td>LOS ANGELES</td>\n",
       "      <td>6037</td>\n",
       "      <td>YES</td>\n",
       "      <td>NaN</td>\n",
       "      <td>NaN</td>\n",
       "      <td>NaN</td>\n",
       "      <td>NaN</td>\n",
       "      <td>2025-03-17T00:00:00</td>\n",
       "      <td>6.425291e+06</td>\n",
       "      <td>1.941683e+06</td>\n",
       "    </tr>\n",
       "    <tr>\n",
       "      <th>4</th>\n",
       "      <td>122510</td>\n",
       "      <td>LOS ANGELES</td>\n",
       "      <td>90033</td>\n",
       "      <td>LICENSED AND CERTIFIED</td>\n",
       "      <td>NaN</td>\n",
       "      <td>NaN</td>\n",
       "      <td>60000040</td>\n",
       "      <td>OPEN</td>\n",
       "      <td>CA060000040</td>\n",
       "      <td>50373.0</td>\n",
       "      <td>...</td>\n",
       "      <td>LOS ANGELES</td>\n",
       "      <td>6037</td>\n",
       "      <td>YES</td>\n",
       "      <td>LEVEL II PED</td>\n",
       "      <td>LEVEL I</td>\n",
       "      <td>NaN</td>\n",
       "      <td>NaN</td>\n",
       "      <td>2025-03-17T00:00:00</td>\n",
       "      <td>6.499125e+06</td>\n",
       "      <td>1.842927e+06</td>\n",
       "    </tr>\n",
       "  </tbody>\n",
       "</table>\n",
       "<p>5 rows × 62 columns</p>\n",
       "</div>"
      ],
      "text/plain": [
       "   OBJECTID         City  ZIP Code      LICENSED_CERTIFIED FLAG  T18_19  \\\n",
       "0    122506     TORRANCE     90502  LICENSED AND CERTIFIED  NaN     NaN   \n",
       "1    122507       DOWNEY     90242  LICENSED AND CERTIFIED  NaN     NaN   \n",
       "2    122508  LOS ANGELES     90059  LICENSED AND CERTIFIED  NaN     NaN   \n",
       "3    122509       SYLMAR     91342  LICENSED AND CERTIFIED  NaN     NaN   \n",
       "4    122510  LOS ANGELES     90033  LICENSED AND CERTIFIED  NaN     NaN   \n",
       "\n",
       "      FACID FAC_STATUS_TYPE_CODE  ASPEN_FACID      CCN  ...   CCLHO_NAME  \\\n",
       "0  60000027                 OPEN  CA060000027  50376.0  ...  LOS ANGELES   \n",
       "1  60000028                 OPEN  CA060000028  50717.0  ...  LOS ANGELES   \n",
       "2  60000035                 OPEN   CA06000035  50779.0  ...  LOS ANGELES   \n",
       "3  60000038                 OPEN  CA060000038  50040.0  ...  LOS ANGELES   \n",
       "4  60000040                 OPEN  CA060000040  50373.0  ...  LOS ANGELES   \n",
       "\n",
       "  FIPS_COUNTY_CODE BIRTHING_FACILITY_FLAG  TRAUMA_PED_CTR TRAUMA_CTR  \\\n",
       "0             6037                    YES    LEVEL II PED    LEVEL I   \n",
       "1             6037                    NaN             NaN        NaN   \n",
       "2             6037                    YES             NaN        NaN   \n",
       "3             6037                    YES             NaN        NaN   \n",
       "4             6037                    YES    LEVEL II PED    LEVEL I   \n",
       "\n",
       "  TYPE_OF_CARE  CRITICAL_ACCESS_HOSPITAL            DATA_DATE             x  \\\n",
       "0          NaN                       NaN  2025-03-17T00:00:00  6.472977e+06   \n",
       "1          NaN                       NaN  2025-03-17T00:00:00  6.513737e+06   \n",
       "2          NaN                       NaN  2025-03-17T00:00:00  6.487597e+06   \n",
       "3          NaN                       NaN  2025-03-17T00:00:00  6.425291e+06   \n",
       "4          NaN                       NaN  2025-03-17T00:00:00  6.499125e+06   \n",
       "\n",
       "              y  \n",
       "0  1.760762e+06  \n",
       "1  1.796618e+06  \n",
       "2  1.794882e+06  \n",
       "3  1.941683e+06  \n",
       "4  1.842927e+06  \n",
       "\n",
       "[5 rows x 62 columns]"
      ]
     },
     "execution_count": 32,
     "metadata": {},
     "output_type": "execute_result"
    }
   ],
   "source": [
    "# Uploaded data from new Hospital dataset\n",
    "df = pd.read_csv(\"../data/Points_of_Interest_Hospitals.csv\") \n",
    "df.head()"
   ]
  },
  {
   "cell_type": "code",
   "execution_count": 13,
   "id": "03fdcef9",
   "metadata": {},
   "outputs": [
    {
     "data": {
      "text/plain": [
       "Index(['OBJECTID', 'City', 'ZIP Code', 'LICENSED_CERTIFIED', 'FLAG', 'T18_19',\n",
       "       'FACID', 'FAC_STATUS_TYPE_CODE', 'ASPEN_FACID', 'CCN', 'TERMINAT_SW',\n",
       "       'PARTICIPATION_DATE', 'APPROVAL_DATE', 'NPI', 'CAN_BE_DEEMED_FAC_TYPE',\n",
       "       'CAN_BE_CERTIFIED_FAC_TYPE', 'DEEMED', 'AO_CD', 'DMG_EFCTV_DT',\n",
       "       'AO_TRMNTN_DT', 'AO_NAME', 'FACNAME', 'FAC_TYPE_CODE', 'FAC_FDR', 'LTC',\n",
       "       'CAPACITY', 'ADDRESS', 'ZIP9', 'FACADMIN', 'CONTACT_EMAIL',\n",
       "       'CONTACT_FAX', 'CONTACT_PHONE_NUMBER', 'COUNTY_CODE', 'COUNTY_NAME',\n",
       "       'DISTRICT_NUMBER', 'DISTRICT_NAME', 'ISFACMAIN', 'PARENT_FACID',\n",
       "       'FAC_FAC_RELATIONSHIP_TYPE_CODE', 'START_DATE', 'LICENSE_NUMBER',\n",
       "       'BUSINESS_NAME', 'LICENSE_STATUS_DESCRIPTION', 'INITIAL_LICENSE_DATE',\n",
       "       'LICENSE_EFFECTIVE_DATE', 'LICENSE_EXPIRATION_DATE',\n",
       "       'ENTITY_TYPE_DESCRIPTION', 'LATITUDE', 'LONGITUDE', 'LOCATION',\n",
       "       'HCAI_ID', 'CCLHO_CODE', 'CCLHO_NAME', 'FIPS_COUNTY_CODE',\n",
       "       'BIRTHING_FACILITY_FLAG', 'TRAUMA_PED_CTR', 'TRAUMA_CTR',\n",
       "       'TYPE_OF_CARE', 'CRITICAL_ACCESS_HOSPITAL', 'DATA_DATE', 'x', 'y'],\n",
       "      dtype='object')"
      ]
     },
     "execution_count": 13,
     "metadata": {},
     "output_type": "execute_result"
    }
   ],
   "source": [
    "# look at columns in Hospital dataset\n",
    "df.columns.unique()"
   ]
  },
  {
   "cell_type": "markdown",
   "id": "703baa29",
   "metadata": {},
   "source": [
    "**Initial Observations**:\n",
    "\n",
    "The dataset contains over 60 columns, however in our case we would likely only need to use a few of the features. \n",
    "Key observations so far:\n",
    "- Some columns (e.g., x, y, LATITUDE, LONGITUDE) provide location data.\n",
    "- Others like FAC_STATUS_TYPE_CODE, TYPE_OF_CARE, and TRAUMA_CTR describe each facility’s services.\n",
    "- ZIP Code appears to be the most useful for linking to our crime dataset, which also includes ZIP codes."
   ]
  },
  {
   "cell_type": "code",
   "execution_count": 14,
   "id": "9d4a988b",
   "metadata": {},
   "outputs": [
    {
     "data": {
      "text/plain": [
       "array(['TORRANCE', 'DOWNEY', 'LOS ANGELES', 'SYLMAR', 'WEST HOLLYWOOD',\n",
       "       'ALHAMBRA', 'LANCASTER', 'MONTEBELLO', 'AVALON', 'CULVER CITY',\n",
       "       'BELLFLOWER', 'POMONA', 'INGLEWOOD', 'PASADENA', 'PANORAMA CITY',\n",
       "       'WEST HILLS', 'PARAMOUNT', 'DUARTE', 'NORWALK', 'GARDENA',\n",
       "       'HUNTINGTON PARK', 'SAN GABRIEL', 'WEST COVINA', 'MARINA DEL REY',\n",
       "       'LAKEWOOD', 'SANTA MONICA', 'ENCINO', 'GLENDORA', 'MONTEREY PARK',\n",
       "       'GLENDALE', 'SOUTH EL MONTE', 'VALENCIA', 'MISSION HILLS',\n",
       "       'COVINA', 'HARBOR CITY', 'PALMDALE', 'LA MIRADA', 'TARZANA',\n",
       "       'LONG BEACH', 'ARCADIA', 'WHITTIER', 'BURBANK', 'MONROVIA',\n",
       "       'NORTHRIDGE', 'SAN DIMAS', 'LYNWOOD', 'VAN NUYS', 'SUN VALLEY',\n",
       "       'SHERMAN OAKS', 'BALDWIN PARK', 'SAN PEDRO', 'WOODLAND HILLS'],\n",
       "      dtype=object)"
      ]
     },
     "execution_count": 14,
     "metadata": {},
     "output_type": "execute_result"
    }
   ],
   "source": [
    "df['City'].unique()"
   ]
  },
  {
   "cell_type": "markdown",
   "id": "3a266ad3",
   "metadata": {},
   "source": [
    "Variables like T18_T19 and TYPE_OF_CARE, may not be useful to include in our analyses, as there are only 93 records in our dataset and those 2 columns have all records missing."
   ]
  },
  {
   "cell_type": "code",
   "execution_count": 35,
   "id": "5c419ce1",
   "metadata": {},
   "outputs": [
    {
     "data": {
      "text/plain": [
       "T18_19                      93\n",
       "TYPE_OF_CARE                93\n",
       "CRITICAL_ACCESS_HOSPITAL    92\n",
       "TERMINAT_SW                 92\n",
       "AO_TRMNTN_DT                91\n",
       "FLAG                        88\n",
       "TRAUMA_PED_CTR              85\n",
       "PARENT_FACID                84\n",
       "START_DATE                  84\n",
       "TRAUMA_CTR                  78\n",
       "dtype: int64"
      ]
     },
     "execution_count": 35,
     "metadata": {},
     "output_type": "execute_result"
    }
   ],
   "source": [
    "# View data types and missing values per column\n",
    "df.isna().sum().sort_values(ascending=False).head(10)"
   ]
  },
  {
   "cell_type": "markdown",
   "id": "8b1ec5ee",
   "metadata": {},
   "source": [
    "**Key Variables Kept for Analyses**: \n",
    "- ZIP Code: Postal area of the hospital, used to join with the crime dataset\n",
    "- City: City where the facility is located, secondary spatial identifier\n",
    "- FAC_STATUS_TYPE_CODE: Operational status (e.g., OPEN, CLOSED), indicates active healthcare coverage\n",
    "- TRAUMA_CTR: Trauma care level (e.g., Level I, II), reflects emergency service capacity\n",
    "- BIRTHING_FACILITY_FLAG: Indicates birthing facility availability, relevant for gender-related healthcare accessibility\n",
    "- CRITICAL_ACCESS_HOSPITAL: Marks federally designated rural emergency hospitals, adds rural–urban healthcare context\n",
    "- LATITUDE / LONGITUDE: Facility coordinates, could be used for spatial visualization later\n",
    "- COUNTY_NAME: County in which the hospital is located, supports geographic summaries"
   ]
  },
  {
   "cell_type": "code",
   "execution_count": 36,
   "id": "c7911e4d",
   "metadata": {},
   "outputs": [
    {
     "data": {
      "text/html": [
       "<div>\n",
       "<style scoped>\n",
       "    .dataframe tbody tr th:only-of-type {\n",
       "        vertical-align: middle;\n",
       "    }\n",
       "\n",
       "    .dataframe tbody tr th {\n",
       "        vertical-align: top;\n",
       "    }\n",
       "\n",
       "    .dataframe thead th {\n",
       "        text-align: right;\n",
       "    }\n",
       "</style>\n",
       "<table border=\"1\" class=\"dataframe\">\n",
       "  <thead>\n",
       "    <tr style=\"text-align: right;\">\n",
       "      <th></th>\n",
       "      <th>FACNAME</th>\n",
       "      <th>City</th>\n",
       "      <th>ZIP Code</th>\n",
       "      <th>FAC_STATUS_TYPE_CODE</th>\n",
       "      <th>TRAUMA_CTR</th>\n",
       "      <th>BIRTHING_FACILITY_FLAG</th>\n",
       "      <th>CRITICAL_ACCESS_HOSPITAL</th>\n",
       "      <th>LATITUDE</th>\n",
       "      <th>LONGITUDE</th>\n",
       "      <th>COUNTY_NAME</th>\n",
       "    </tr>\n",
       "  </thead>\n",
       "  <tbody>\n",
       "    <tr>\n",
       "      <th>0</th>\n",
       "      <td>LAC/HARBOR UCLA MEDICAL CENTER</td>\n",
       "      <td>TORRANCE</td>\n",
       "      <td>90502</td>\n",
       "      <td>OPEN</td>\n",
       "      <td>LEVEL I</td>\n",
       "      <td>YES</td>\n",
       "      <td>NaN</td>\n",
       "      <td>33.830325</td>\n",
       "      <td>-118.292018</td>\n",
       "      <td>LOS ANGELES</td>\n",
       "    </tr>\n",
       "    <tr>\n",
       "      <th>1</th>\n",
       "      <td>LAC/RANCHO LOS AMIGOS NATIONAL REHABILITATION ...</td>\n",
       "      <td>DOWNEY</td>\n",
       "      <td>90242</td>\n",
       "      <td>OPEN</td>\n",
       "      <td>NaN</td>\n",
       "      <td>NaN</td>\n",
       "      <td>NaN</td>\n",
       "      <td>33.929100</td>\n",
       "      <td>-118.157999</td>\n",
       "      <td>LOS ANGELES</td>\n",
       "    </tr>\n",
       "    <tr>\n",
       "      <th>2</th>\n",
       "      <td>MARTIN LUTHER KING, JR. COMMUNITY HOSPITAL</td>\n",
       "      <td>LOS ANGELES</td>\n",
       "      <td>90059</td>\n",
       "      <td>OPEN</td>\n",
       "      <td>NaN</td>\n",
       "      <td>YES</td>\n",
       "      <td>NaN</td>\n",
       "      <td>33.924186</td>\n",
       "      <td>-118.244151</td>\n",
       "      <td>LOS ANGELES</td>\n",
       "    </tr>\n",
       "    <tr>\n",
       "      <th>3</th>\n",
       "      <td>LAC/OLIVE VIEW-UCLA MEDICAL CENTER</td>\n",
       "      <td>SYLMAR</td>\n",
       "      <td>91342</td>\n",
       "      <td>OPEN</td>\n",
       "      <td>NaN</td>\n",
       "      <td>YES</td>\n",
       "      <td>NaN</td>\n",
       "      <td>34.326981</td>\n",
       "      <td>-118.451700</td>\n",
       "      <td>LOS ANGELES</td>\n",
       "    </tr>\n",
       "    <tr>\n",
       "      <th>4</th>\n",
       "      <td>LOS ANGELES GENERAL MEDICAL CENTER</td>\n",
       "      <td>LOS ANGELES</td>\n",
       "      <td>90033</td>\n",
       "      <td>OPEN</td>\n",
       "      <td>LEVEL I</td>\n",
       "      <td>YES</td>\n",
       "      <td>NaN</td>\n",
       "      <td>34.056278</td>\n",
       "      <td>-118.206478</td>\n",
       "      <td>LOS ANGELES</td>\n",
       "    </tr>\n",
       "  </tbody>\n",
       "</table>\n",
       "</div>"
      ],
      "text/plain": [
       "                                             FACNAME         City  ZIP Code  \\\n",
       "0                     LAC/HARBOR UCLA MEDICAL CENTER     TORRANCE     90502   \n",
       "1  LAC/RANCHO LOS AMIGOS NATIONAL REHABILITATION ...       DOWNEY     90242   \n",
       "2         MARTIN LUTHER KING, JR. COMMUNITY HOSPITAL  LOS ANGELES     90059   \n",
       "3                 LAC/OLIVE VIEW-UCLA MEDICAL CENTER       SYLMAR     91342   \n",
       "4                 LOS ANGELES GENERAL MEDICAL CENTER  LOS ANGELES     90033   \n",
       "\n",
       "  FAC_STATUS_TYPE_CODE TRAUMA_CTR BIRTHING_FACILITY_FLAG  \\\n",
       "0                 OPEN    LEVEL I                    YES   \n",
       "1                 OPEN        NaN                    NaN   \n",
       "2                 OPEN        NaN                    YES   \n",
       "3                 OPEN        NaN                    YES   \n",
       "4                 OPEN    LEVEL I                    YES   \n",
       "\n",
       "  CRITICAL_ACCESS_HOSPITAL   LATITUDE   LONGITUDE  COUNTY_NAME  \n",
       "0                      NaN  33.830325 -118.292018  LOS ANGELES  \n",
       "1                      NaN  33.929100 -118.157999  LOS ANGELES  \n",
       "2                      NaN  33.924186 -118.244151  LOS ANGELES  \n",
       "3                      NaN  34.326981 -118.451700  LOS ANGELES  \n",
       "4                      NaN  34.056278 -118.206478  LOS ANGELES  "
      ]
     },
     "execution_count": 36,
     "metadata": {},
     "output_type": "execute_result"
    }
   ],
   "source": [
    "# Only keeping useful columns\n",
    "key_vars = [\n",
    "    \"FACNAME\",\n",
    "    \"City\",\n",
    "    \"ZIP Code\",\n",
    "    \"FAC_STATUS_TYPE_CODE\",\n",
    "    \"TRAUMA_CTR\",\n",
    "    \"BIRTHING_FACILITY_FLAG\",\n",
    "    \"CRITICAL_ACCESS_HOSPITAL\",\n",
    "    \"LATITUDE\",\n",
    "    \"LONGITUDE\",\n",
    "    \"COUNTY_NAME\"\n",
    "]\n",
    "\n",
    "df = df[key_vars]\n",
    "df.head()"
   ]
  },
  {
   "cell_type": "code",
   "execution_count": 37,
   "id": "ce70f678",
   "metadata": {},
   "outputs": [
    {
     "name": "stdout",
     "output_type": "stream",
     "text": [
      "Number of rows: 93\n",
      "Number of columns: 10\n"
     ]
    }
   ],
   "source": [
    "# get the number of rows and columns\n",
    "num_rows, num_cols = df.shape\n",
    "\n",
    "print(f\"Number of rows: {num_rows}\")\n",
    "print(f\"Number of columns: {num_cols}\")"
   ]
  },
  {
   "cell_type": "markdown",
   "id": "f86ffab1",
   "metadata": {},
   "source": [
    "**Handling Missing Values**"
   ]
  },
  {
   "cell_type": "code",
   "execution_count": 38,
   "id": "e2f544bd",
   "metadata": {},
   "outputs": [
    {
     "data": {
      "text/plain": [
       "CRITICAL_ACCESS_HOSPITAL    92\n",
       "TRAUMA_CTR                  78\n",
       "BIRTHING_FACILITY_FLAG      42\n",
       "FACNAME                      0\n",
       "City                         0\n",
       "dtype: int64"
      ]
     },
     "execution_count": 38,
     "metadata": {},
     "output_type": "execute_result"
    }
   ],
   "source": [
    "# View data types and missing values per column\n",
    "df.isna().sum().sort_values(ascending=False).head()"
   ]
  },
  {
   "cell_type": "markdown",
   "id": "16d9f4e0",
   "metadata": {},
   "source": [
    "We looked for facilities that are 'OPEN' to represent hospitals that are currently operating. In our favor, all 93 hospitals in the dataset are active. "
   ]
  },
  {
   "cell_type": "code",
   "execution_count": 39,
   "id": "d2746d8a",
   "metadata": {},
   "outputs": [
    {
     "name": "stdout",
     "output_type": "stream",
     "text": [
      "Number of active hospitals: 93\n"
     ]
    }
   ],
   "source": [
    "# Filter and check for active hospitals\n",
    "active_hospitals = df[df['FAC_STATUS_TYPE_CODE'] == 'OPEN']\n",
    "print(\"Number of active hospitals:\", active_hospitals.shape[0])"
   ]
  },
  {
   "cell_type": "code",
   "execution_count": 40,
   "id": "01997886",
   "metadata": {},
   "outputs": [
    {
     "data": {
      "text/plain": [
       "FACNAME                 0\n",
       "City                    0\n",
       "ZIP Code                0\n",
       "FAC_STATUS_TYPE_CODE    0\n",
       "TRAUMA_CTR              0\n",
       "dtype: int64"
      ]
     },
     "execution_count": 40,
     "metadata": {},
     "output_type": "execute_result"
    }
   ],
   "source": [
    "# Fill missing categorical data\n",
    "df['TRAUMA_CTR'] = df['TRAUMA_CTR'].fillna('No Trauma')\n",
    "df['BIRTHING_FACILITY_FLAG'] = df['BIRTHING_FACILITY_FLAG'].fillna('No')\n",
    "df['CRITICAL_ACCESS_HOSPITAL'] = df['CRITICAL_ACCESS_HOSPITAL'].fillna('No')\n",
    "\n",
    "# Checking for missing values again\n",
    "df.isna().sum().sort_values(ascending=False).head()"
   ]
  },
  {
   "cell_type": "markdown",
   "id": "17c3611b",
   "metadata": {},
   "source": [
    "### Joining Datasets by Zip Code\n",
    "---"
   ]
  },
  {
   "cell_type": "code",
   "execution_count": 41,
   "id": "83b2113a",
   "metadata": {},
   "outputs": [
    {
     "data": {
      "text/plain": [
       "array([90502, 90242, 90059, 91342, 90033, 90048, 90027, 90015, 91801,\n",
       "       93534, 90640, 90704, 90026, 90232, 90706, 91767, 90301, 91105,\n",
       "       91402, 91307, 90067, 90723, 91010, 90650, 90247, 90255, 91776,\n",
       "       91791, 90292, 90712, 90404, 90241, 90023, 91436, 91741, 91754,\n",
       "       91206, 91733, 91355, 90028, 91345, 90017, 91723, 90710, 90034,\n",
       "       93551, 90503, 90056, 90638, 91356, 91204, 90806, 91007, 90602,\n",
       "       91505, 90813, 91016, 91325, 91773, 90505, 90262, 91405, 91790,\n",
       "       91352, 91403, 91706, 90605, 90732, 90036, 90095, 90089, 91208,\n",
       "       91367])"
      ]
     },
     "execution_count": 41,
     "metadata": {},
     "output_type": "execute_result"
    }
   ],
   "source": [
    "df[\"ZIP Code\"].unique()"
   ]
  }
 ],
 "metadata": {
  "kernelspec": {
   "display_name": "Python 3",
   "language": "python",
   "name": "python3"
  },
  "language_info": {
   "codemirror_mode": {
    "name": "ipython",
    "version": 3
   },
   "file_extension": ".py",
   "mimetype": "text/x-python",
   "name": "python",
   "nbconvert_exporter": "python",
   "pygments_lexer": "ipython3",
   "version": "3.13.1"
  }
 },
 "nbformat": 4,
 "nbformat_minor": 5
}
